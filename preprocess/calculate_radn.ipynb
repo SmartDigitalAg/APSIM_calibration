{
 "cells": [
  {
   "cell_type": "code",
   "execution_count": 2,
   "outputs": [],
   "source": [
    "import pandas as pd\n",
    "import numpy as np\n",
    "import math"
   ],
   "metadata": {
    "collapsed": false
   }
  },
  {
   "cell_type": "code",
   "execution_count": 3,
   "metadata": {
    "collapsed": true
   },
   "outputs": [
    {
     "data": {
      "text/plain": "   Unnamed: 0          날짜  월  일  평균기온  평균습도  평균풍속  일조시간  풍속계높이\n0           0  2007-01-01  1  1   6.0  42.0   2.5   5.0     10\n1           1  2007-01-02  1  2   5.6  73.8   2.6   1.0     10\n2           2  2007-01-03  1  3   4.4  77.3   2.1   0.0     10\n3           3  2007-01-04  1  4   4.8  71.3   2.9   3.5     10\n4           4  2007-01-05  1  5   4.7  71.6   2.4   0.0     10",
      "text/html": "<div>\n<style scoped>\n    .dataframe tbody tr th:only-of-type {\n        vertical-align: middle;\n    }\n\n    .dataframe tbody tr th {\n        vertical-align: top;\n    }\n\n    .dataframe thead th {\n        text-align: right;\n    }\n</style>\n<table border=\"1\" class=\"dataframe\">\n  <thead>\n    <tr style=\"text-align: right;\">\n      <th></th>\n      <th>Unnamed: 0</th>\n      <th>날짜</th>\n      <th>월</th>\n      <th>일</th>\n      <th>평균기온</th>\n      <th>평균습도</th>\n      <th>평균풍속</th>\n      <th>일조시간</th>\n      <th>풍속계높이</th>\n    </tr>\n  </thead>\n  <tbody>\n    <tr>\n      <th>0</th>\n      <td>0</td>\n      <td>2007-01-01</td>\n      <td>1</td>\n      <td>1</td>\n      <td>6.0</td>\n      <td>42.0</td>\n      <td>2.5</td>\n      <td>5.0</td>\n      <td>10</td>\n    </tr>\n    <tr>\n      <th>1</th>\n      <td>1</td>\n      <td>2007-01-02</td>\n      <td>1</td>\n      <td>2</td>\n      <td>5.6</td>\n      <td>73.8</td>\n      <td>2.6</td>\n      <td>1.0</td>\n      <td>10</td>\n    </tr>\n    <tr>\n      <th>2</th>\n      <td>2</td>\n      <td>2007-01-03</td>\n      <td>1</td>\n      <td>3</td>\n      <td>4.4</td>\n      <td>77.3</td>\n      <td>2.1</td>\n      <td>0.0</td>\n      <td>10</td>\n    </tr>\n    <tr>\n      <th>3</th>\n      <td>3</td>\n      <td>2007-01-04</td>\n      <td>1</td>\n      <td>4</td>\n      <td>4.8</td>\n      <td>71.3</td>\n      <td>2.9</td>\n      <td>3.5</td>\n      <td>10</td>\n    </tr>\n    <tr>\n      <th>4</th>\n      <td>4</td>\n      <td>2007-01-05</td>\n      <td>1</td>\n      <td>5</td>\n      <td>4.7</td>\n      <td>71.6</td>\n      <td>2.4</td>\n      <td>0.0</td>\n      <td>10</td>\n    </tr>\n  </tbody>\n</table>\n</div>"
     },
     "execution_count": 3,
     "metadata": {},
     "output_type": "execute_result"
    }
   ],
   "source": [
    "df = pd.read_csv(\"../output/weather_csv/Gangneung_weather.csv\")\n",
    "df.head()"
   ]
  },
  {
   "cell_type": "code",
   "execution_count": 4,
   "outputs": [],
   "source": [
    "df['북위'] = 37.54\n",
    "df['해발고도'] = 28"
   ],
   "metadata": {
    "collapsed": false
   }
  },
  {
   "cell_type": "markdown",
   "source": [],
   "metadata": {
    "collapsed": false
   }
  },
  {
   "cell_type": "code",
   "execution_count": 5,
   "outputs": [],
   "source": [
    "df['u_2'] = df['평균풍속']*4.87/np.log(67.8*df['풍속계높이']-5.42)\n",
    "df['P'] = 101.3*((293-0.0065*df['해발고도'])/293)**5.26\n",
    "df['Δ'] = df['평균기온'].apply(lambda x:4098*(0.6108*math.exp((17.27*x)/(x+237.3)))/(x+237.3)**2)\n",
    "df['gamma'] = 0.665*10**(-3)*df['P']\n",
    "# P\n",
    "df['A'] = 1+0.34*df['u_2']\n",
    "# Q\n",
    "df['B'] = df['Δ']/(df['Δ']+df['gamma']*df['A'])\n",
    "# R\n",
    "df['C'] = df['gamma']/(df['Δ']+df['gamma']*df['A'])\n",
    "# S\n",
    "df['D'] = 900/(df['평균기온'] + 273)*df['u_2']\n",
    "df['e_s'] = df['평균기온'].apply(lambda x:0.6108*math.exp((17.27*x)/(x+237.3)))\n",
    "df['e_a'] = df['평균습도']/100*df['e_s']\n",
    "df['e_s-e_a'] = df['e_s'] - df['e_a']\n",
    "df['doi'] = pd.to_datetime(df['날짜']).dt.strftime('%j')\n",
    "df['doi'] = df['doi'].apply(pd.to_numeric)\n",
    "df['dr'] = df['doi'].apply(lambda x: 1+0.033*math.cos(2*math.pi/365*x))\n",
    "df['δ'] = df['doi'].apply(lambda x: 0.409*math.sin(2*math.pi/365*x-1.39))\n",
    "# df['dr'] = df['doi'].apply(lambda x: 1+0.033*math.cos(2*math.pi/365*x) if x > 181 else 1+0.033*math.cos(2*math.pi/365*x))\n",
    "# df['δ'] = df['doi'].apply(lambda x: 0.409*math.sin(2*math.pi/365*x-1.39) if x > 181 else 0.409*math.sin(2*math.pi/365*x-1.39))\n",
    "df['Φ'] = df['북위']*math.pi/180\n",
    "df['ω_s'] = df['Φ'].apply(lambda x:math.acos(-math.tan(x)*math.tan(x)))\n",
    "df['Ra'] = 24*60/math.pi*0.082*df['dr']*\\\n",
    "           (df['ω_s']*df['δ'].apply(lambda x: math.sin(x))*\n",
    "            df['Φ'].apply(lambda x: math.sin(x))+\n",
    "            df['Φ'].apply(lambda x: math.cos(x))*\n",
    "            df['δ'].apply(lambda x: math.cos(x))*\n",
    "            df['ω_s'].apply(lambda x: math.sin(x)))\n",
    "df['N'] = 24/math.pi*df['ω_s']\n",
    "df['Rs'] = (0.25+0.5*df['일조시간']/df['N'])*df['Ra']\n",
    "df['Rso'] = (0.75 + 2 * 10 ** (-5) * df['해발고도']) * df['Ra']\n",
    "df['Rs/Rso'] = df['Rs'] / df['Rso']\n",
    "df['R_ns'] = 0.77 * df['Rs']\n",
    "df['R_nl'] = 4.903*10**(-9)*(df['평균기온']+273.16)**4*(0.34-0.14*df['e_a']**(0.5))*(1.35*df['Rs/Rso']-0.35)\n",
    "df['Rn'] = df['R_ns'] - df['R_nl']"
   ],
   "metadata": {
    "collapsed": false
   }
  },
  {
   "cell_type": "code",
   "execution_count": 6,
   "outputs": [
    {
     "data": {
      "text/plain": "      Unnamed: 0          날짜   월   일  평균기온  평균습도  평균풍속  일조시간  풍속계높이     북위  \\\n0              0  2007-01-01   1   1   6.0  42.0   2.5   5.0     10  37.54   \n1              1  2007-01-02   1   2   5.6  73.8   2.6   1.0     10  37.54   \n2              2  2007-01-03   1   3   4.4  77.3   2.1   0.0     10  37.54   \n3              3  2007-01-04   1   4   4.8  71.3   2.9   3.5     10  37.54   \n4              4  2007-01-05   1   5   4.7  71.6   2.4   0.0     10  37.54   \n...          ...         ...  ..  ..   ...   ...   ...   ...    ...    ...   \n5109         361  2020-12-27  12  27   8.4  43.4   2.0   4.0     10  37.54   \n5110         362  2020-12-28  12  28   8.7  58.8   2.2   8.1     10  37.54   \n5111         363  2020-12-29  12  29   5.4  59.0   2.5   2.3     10  37.54   \n5112         364  2020-12-30  12  30  -5.3  35.0   4.4   6.5     10  37.54   \n5113         365  2020-12-31  12  31  -5.3  34.3   4.4   8.7     10  37.54   \n\n      ...         Φ       ω_s        Ra         N        Rs       Rso  \\\n0     ...  0.655197  2.202468  2.535929  16.82562  1.010778  1.903367   \n1     ...  0.655197  2.202468  2.619185  16.82562  0.732630  1.965856   \n2     ...  0.655197  2.202468  2.709235  16.82562  0.677309  2.033443   \n3     ...  0.655197  2.202468  2.806047  16.82562  0.993363  2.106106   \n4     ...  0.655197  2.202468  2.909586  16.82562  0.727397  2.183819   \n...   ...       ...       ...       ...       ...       ...       ...   \n5109  ...  0.655197  2.202468  2.271376  16.82562  0.837834  1.704804   \n5110  ...  0.655197  2.202468  2.327196  16.82562  1.141965  1.746700   \n5111  ...  0.655197  2.202468  2.389910  16.82562  0.760823  1.793771   \n5112  ...  0.655197  2.202468  2.459495  16.82562  1.089944  1.845999   \n5113  ...  0.655197  2.202468  2.535929  16.82562  1.289607  1.903367   \n\n        Rs/Rso      R_ns      R_nl        Rn  \n0     0.531047  0.778299  2.756082 -1.977783  \n1     0.372677  0.564125  1.021316 -0.457191  \n2     0.333085  0.521528  0.659584 -0.138056  \n3     0.471659  0.764890  1.933225 -1.168336  \n4     0.333085  0.560095  0.671427 -0.111331  \n...        ...       ...       ...       ...  \n5109  0.491455  0.645132  2.348738 -1.703606  \n5110  0.653784  0.879313  3.727095 -2.847782  \n5111  0.424148  0.585834  1.565016 -0.979182  \n5112  0.590436  0.839257  3.237082 -2.397825  \n5113  0.677540  0.992997  4.096087 -3.103090  \n\n[5114 rows x 35 columns]",
      "text/html": "<div>\n<style scoped>\n    .dataframe tbody tr th:only-of-type {\n        vertical-align: middle;\n    }\n\n    .dataframe tbody tr th {\n        vertical-align: top;\n    }\n\n    .dataframe thead th {\n        text-align: right;\n    }\n</style>\n<table border=\"1\" class=\"dataframe\">\n  <thead>\n    <tr style=\"text-align: right;\">\n      <th></th>\n      <th>Unnamed: 0</th>\n      <th>날짜</th>\n      <th>월</th>\n      <th>일</th>\n      <th>평균기온</th>\n      <th>평균습도</th>\n      <th>평균풍속</th>\n      <th>일조시간</th>\n      <th>풍속계높이</th>\n      <th>북위</th>\n      <th>...</th>\n      <th>Φ</th>\n      <th>ω_s</th>\n      <th>Ra</th>\n      <th>N</th>\n      <th>Rs</th>\n      <th>Rso</th>\n      <th>Rs/Rso</th>\n      <th>R_ns</th>\n      <th>R_nl</th>\n      <th>Rn</th>\n    </tr>\n  </thead>\n  <tbody>\n    <tr>\n      <th>0</th>\n      <td>0</td>\n      <td>2007-01-01</td>\n      <td>1</td>\n      <td>1</td>\n      <td>6.0</td>\n      <td>42.0</td>\n      <td>2.5</td>\n      <td>5.0</td>\n      <td>10</td>\n      <td>37.54</td>\n      <td>...</td>\n      <td>0.655197</td>\n      <td>2.202468</td>\n      <td>2.535929</td>\n      <td>16.82562</td>\n      <td>1.010778</td>\n      <td>1.903367</td>\n      <td>0.531047</td>\n      <td>0.778299</td>\n      <td>2.756082</td>\n      <td>-1.977783</td>\n    </tr>\n    <tr>\n      <th>1</th>\n      <td>1</td>\n      <td>2007-01-02</td>\n      <td>1</td>\n      <td>2</td>\n      <td>5.6</td>\n      <td>73.8</td>\n      <td>2.6</td>\n      <td>1.0</td>\n      <td>10</td>\n      <td>37.54</td>\n      <td>...</td>\n      <td>0.655197</td>\n      <td>2.202468</td>\n      <td>2.619185</td>\n      <td>16.82562</td>\n      <td>0.732630</td>\n      <td>1.965856</td>\n      <td>0.372677</td>\n      <td>0.564125</td>\n      <td>1.021316</td>\n      <td>-0.457191</td>\n    </tr>\n    <tr>\n      <th>2</th>\n      <td>2</td>\n      <td>2007-01-03</td>\n      <td>1</td>\n      <td>3</td>\n      <td>4.4</td>\n      <td>77.3</td>\n      <td>2.1</td>\n      <td>0.0</td>\n      <td>10</td>\n      <td>37.54</td>\n      <td>...</td>\n      <td>0.655197</td>\n      <td>2.202468</td>\n      <td>2.709235</td>\n      <td>16.82562</td>\n      <td>0.677309</td>\n      <td>2.033443</td>\n      <td>0.333085</td>\n      <td>0.521528</td>\n      <td>0.659584</td>\n      <td>-0.138056</td>\n    </tr>\n    <tr>\n      <th>3</th>\n      <td>3</td>\n      <td>2007-01-04</td>\n      <td>1</td>\n      <td>4</td>\n      <td>4.8</td>\n      <td>71.3</td>\n      <td>2.9</td>\n      <td>3.5</td>\n      <td>10</td>\n      <td>37.54</td>\n      <td>...</td>\n      <td>0.655197</td>\n      <td>2.202468</td>\n      <td>2.806047</td>\n      <td>16.82562</td>\n      <td>0.993363</td>\n      <td>2.106106</td>\n      <td>0.471659</td>\n      <td>0.764890</td>\n      <td>1.933225</td>\n      <td>-1.168336</td>\n    </tr>\n    <tr>\n      <th>4</th>\n      <td>4</td>\n      <td>2007-01-05</td>\n      <td>1</td>\n      <td>5</td>\n      <td>4.7</td>\n      <td>71.6</td>\n      <td>2.4</td>\n      <td>0.0</td>\n      <td>10</td>\n      <td>37.54</td>\n      <td>...</td>\n      <td>0.655197</td>\n      <td>2.202468</td>\n      <td>2.909586</td>\n      <td>16.82562</td>\n      <td>0.727397</td>\n      <td>2.183819</td>\n      <td>0.333085</td>\n      <td>0.560095</td>\n      <td>0.671427</td>\n      <td>-0.111331</td>\n    </tr>\n    <tr>\n      <th>...</th>\n      <td>...</td>\n      <td>...</td>\n      <td>...</td>\n      <td>...</td>\n      <td>...</td>\n      <td>...</td>\n      <td>...</td>\n      <td>...</td>\n      <td>...</td>\n      <td>...</td>\n      <td>...</td>\n      <td>...</td>\n      <td>...</td>\n      <td>...</td>\n      <td>...</td>\n      <td>...</td>\n      <td>...</td>\n      <td>...</td>\n      <td>...</td>\n      <td>...</td>\n      <td>...</td>\n    </tr>\n    <tr>\n      <th>5109</th>\n      <td>361</td>\n      <td>2020-12-27</td>\n      <td>12</td>\n      <td>27</td>\n      <td>8.4</td>\n      <td>43.4</td>\n      <td>2.0</td>\n      <td>4.0</td>\n      <td>10</td>\n      <td>37.54</td>\n      <td>...</td>\n      <td>0.655197</td>\n      <td>2.202468</td>\n      <td>2.271376</td>\n      <td>16.82562</td>\n      <td>0.837834</td>\n      <td>1.704804</td>\n      <td>0.491455</td>\n      <td>0.645132</td>\n      <td>2.348738</td>\n      <td>-1.703606</td>\n    </tr>\n    <tr>\n      <th>5110</th>\n      <td>362</td>\n      <td>2020-12-28</td>\n      <td>12</td>\n      <td>28</td>\n      <td>8.7</td>\n      <td>58.8</td>\n      <td>2.2</td>\n      <td>8.1</td>\n      <td>10</td>\n      <td>37.54</td>\n      <td>...</td>\n      <td>0.655197</td>\n      <td>2.202468</td>\n      <td>2.327196</td>\n      <td>16.82562</td>\n      <td>1.141965</td>\n      <td>1.746700</td>\n      <td>0.653784</td>\n      <td>0.879313</td>\n      <td>3.727095</td>\n      <td>-2.847782</td>\n    </tr>\n    <tr>\n      <th>5111</th>\n      <td>363</td>\n      <td>2020-12-29</td>\n      <td>12</td>\n      <td>29</td>\n      <td>5.4</td>\n      <td>59.0</td>\n      <td>2.5</td>\n      <td>2.3</td>\n      <td>10</td>\n      <td>37.54</td>\n      <td>...</td>\n      <td>0.655197</td>\n      <td>2.202468</td>\n      <td>2.389910</td>\n      <td>16.82562</td>\n      <td>0.760823</td>\n      <td>1.793771</td>\n      <td>0.424148</td>\n      <td>0.585834</td>\n      <td>1.565016</td>\n      <td>-0.979182</td>\n    </tr>\n    <tr>\n      <th>5112</th>\n      <td>364</td>\n      <td>2020-12-30</td>\n      <td>12</td>\n      <td>30</td>\n      <td>-5.3</td>\n      <td>35.0</td>\n      <td>4.4</td>\n      <td>6.5</td>\n      <td>10</td>\n      <td>37.54</td>\n      <td>...</td>\n      <td>0.655197</td>\n      <td>2.202468</td>\n      <td>2.459495</td>\n      <td>16.82562</td>\n      <td>1.089944</td>\n      <td>1.845999</td>\n      <td>0.590436</td>\n      <td>0.839257</td>\n      <td>3.237082</td>\n      <td>-2.397825</td>\n    </tr>\n    <tr>\n      <th>5113</th>\n      <td>365</td>\n      <td>2020-12-31</td>\n      <td>12</td>\n      <td>31</td>\n      <td>-5.3</td>\n      <td>34.3</td>\n      <td>4.4</td>\n      <td>8.7</td>\n      <td>10</td>\n      <td>37.54</td>\n      <td>...</td>\n      <td>0.655197</td>\n      <td>2.202468</td>\n      <td>2.535929</td>\n      <td>16.82562</td>\n      <td>1.289607</td>\n      <td>1.903367</td>\n      <td>0.677540</td>\n      <td>0.992997</td>\n      <td>4.096087</td>\n      <td>-3.103090</td>\n    </tr>\n  </tbody>\n</table>\n<p>5114 rows × 35 columns</p>\n</div>"
     },
     "execution_count": 6,
     "metadata": {},
     "output_type": "execute_result"
    }
   ],
   "source": [
    "df"
   ],
   "metadata": {
    "collapsed": false
   }
  }
 ],
 "metadata": {
  "kernelspec": {
   "display_name": "Python 3",
   "language": "python",
   "name": "python3"
  },
  "language_info": {
   "codemirror_mode": {
    "name": "ipython",
    "version": 2
   },
   "file_extension": ".py",
   "mimetype": "text/x-python",
   "name": "python",
   "nbconvert_exporter": "python",
   "pygments_lexer": "ipython2",
   "version": "2.7.6"
  }
 },
 "nbformat": 4,
 "nbformat_minor": 0
}
